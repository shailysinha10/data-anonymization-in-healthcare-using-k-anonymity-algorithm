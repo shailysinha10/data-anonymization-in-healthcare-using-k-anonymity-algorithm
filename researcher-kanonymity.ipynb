{
 "cells": [
  {
   "cell_type": "code",
   "execution_count": 1,
   "metadata": {},
   "outputs": [
    {
     "name": "stdout",
     "output_type": "stream",
     "text": [
      "Effectiveness: 10.388017285345024\n"
     ]
    }
   ],
   "source": [
    "import pandas as pd\n",
    "import numpy as np\n",
    "\n",
    "# Define the dataset and sensitive attribute(s)\n",
    "df = pd.read_csv('insurance_data.csv')\n",
    "sensitive_attrs = ['claim', 'region', 'PatientID']\n",
    "\n",
    "# Determine the value of k\n",
    "k = 4\n",
    "\n",
    "# Group individuals based on their attributes\n",
    "groups = df.groupby(sensitive_attrs)\n",
    "\n",
    "# Modify the dataset to achieve k-anonymity\n",
    "for group in groups:\n",
    "    if len(group[1]) < k:\n",
    "        df.loc[group[1].index, sensitive_attrs] = np.nan\n",
    "# Evaluate the effectiveness of the anonymization\n",
    "effect = -1 * sum([(len(group[1])/len(df)) * np.log2(len(group[1])/len(df)) for group in groups])\n",
    "print('Effectiveness:', effect)\n",
    "# Release the anonymized dataset\n",
    "df.to_csv('researcher_data.csv', index=False)\n",
    "\n"
   ]
  }
 ],
 "metadata": {
  "kernelspec": {
   "display_name": "Python 3",
   "language": "python",
   "name": "python3"
  },
  "language_info": {
   "codemirror_mode": {
    "name": "ipython",
    "version": 3
   },
   "file_extension": ".py",
   "mimetype": "text/x-python",
   "name": "python",
   "nbconvert_exporter": "python",
   "pygments_lexer": "ipython3",
   "version": "3.11.3"
  },
  "orig_nbformat": 4
 },
 "nbformat": 4,
 "nbformat_minor": 2
}
